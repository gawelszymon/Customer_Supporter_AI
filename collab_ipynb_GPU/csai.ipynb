
        "from llama_index.llms.groq import Groq\n",
        "from getpass import getpass\n",
        "from llama_index.llms.llama_cpp import LlamaCPP\n",
        "from llama_index.core import Settings\n",
        "from os import sep\n",
        "from llama_index.readers.file import PandasCSVReader\n",
        "from llama_index.core import Document\n",
        "import pandas as pd\n",
        "from llama_index.core.schema import TextNode\n",
        "from llama_index.core import SimpleDirectoryReader, VectorStoreIndex, Settings\n",
        "from llama_index.embeddings.huggingface import HuggingFaceEmbedding\n",
        "from getpass import getpass\n",
        "import gradio as gr"


        "GROQ_API_KEY = getpass()"



        "llm = Groq(model=\"llama3-8b-8192\", api_key=GROQ_API_KEY)"

        "data = pd.read_csv(\"./cennik.csv\", delimiter=\";\", on_bad_lines=\"warn\")\n",

        "for _, row in data.iterrows():\n",
        "    metadata = {\n",
        "        \"NAZWA\": row[\"NAZWA\"],\n",
        "        \"KATEGORIE\": row[\"KATEGORIE\"],\n",
        "        \"PRODUCENT\": row[\"PRODUCENT\"],\n",
        "        \"CENA_KATALOGOWA\": row[\"CENA_KATALOGOWA\"],\n",
        "        \"CENA_KLIENT\": row[\"CENA_KLIENT\"],\n",
        "        \"WALUTA\": row[\"WALUTA\"],\n",
        "        \"VAT\": row[\"VAT\"],\n",
        "        \"RABAT_KLIENTA\": row[\"RABAT_KLIENTA\"],\n",
        "        \"WAGA\": row[\"WAGA\"],\n",
        "        \"OPAKOWANIE\": row[\"OPAKOWANIE\"],\n",
        "        \"JEDNOSTKA_MIARY\": row[\"JEDNOSTKA_MIARY\"],\n",
        "        \"TYP_KURIERA\": row[\"TYP_KURIERA\"],\n",
        "        \"KURIERZY_NAZWA\": row[\"KURIERZY_NAZWA\"],\n",
        "        \"ACTIVE\": row[\"ACTIVE\"],\n",
        "    }\n",
        "\n",
        "    # Treść węzła: nazwa i opis produktu\n",
        "    content = f\"{row['NAZWA']}, czyli {row['OPIS']}\"\n",
        "    nodes.append(TextNode(text=content, metadata=metadata))\n"
      ],
      "metadata": {
        "id": "BME5h14LxFgn"
      },
      "execution_count": null,
      "outputs": []
    },
    {
      "cell_type": "code",
      "source": [
        "embed_model = HuggingFaceEmbedding( model_name=\"BAAI/bge-small-en-v1.5\")\n",
        "index=VectorStoreIndex(nodes, embed_model=embed_model)\n",
        "Settings.embed_model = embed_model\n",
        "\n",
        "# dla dokumentów:\n",
        "# index=VectorStoreIndex.from_documents(documents, embed_model=embed_model)"
      ],
